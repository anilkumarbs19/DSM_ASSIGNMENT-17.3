{
 "cells": [
  {
   "cell_type": "code",
   "execution_count": 1,
   "metadata": {},
   "outputs": [
    {
     "name": "stdout",
     "output_type": "stream",
     "text": [
      "P(red-red) = 0.13\n",
      "P(red-black) = 0.27\n",
      "P(black-red) = 0.27\n",
      "P(black-black) = 0.33\n"
     ]
    }
   ],
   "source": [
    "'''\n",
    "PROBLEM STATEMENT:\n",
    "------------------\n",
    "\n",
    "Two balls are drawn at random in succession without replacement from an urn containing 4 red balls and 6 black balls.Find the \n",
    "probabilities of all the possible outcomes.\n",
    "\n",
    "'''\n",
    "\n",
    "p1 = (4/10) * (3/9) # both balls are red #\n",
    "\n",
    "p2 = (4/10) * (6/9) # First ball is red and second ball is black #\n",
    "\n",
    "p3 = (6/10) * (4/9) # First ball is black and second ball is red #\n",
    "\n",
    "p4 = (6/10) * (5/9) # both balls are black #\n",
    "\n",
    "print(\"P(red-red) =\", format(p1, '.2f'))\n",
    "print(\"P(red-black) =\", format(p2, '.2f'))\n",
    "print(\"P(black-red) =\", format(p3, '.2f'))\n",
    "print(\"P(black-black) =\", format(p4, '.2f'))"
   ]
  },
  {
   "cell_type": "code",
   "execution_count": null,
   "metadata": {
    "collapsed": true
   },
   "outputs": [],
   "source": []
  }
 ],
 "metadata": {
  "kernelspec": {
   "display_name": "Python 3",
   "language": "python",
   "name": "python3"
  },
  "language_info": {
   "codemirror_mode": {
    "name": "ipython",
    "version": 3
   },
   "file_extension": ".py",
   "mimetype": "text/x-python",
   "name": "python",
   "nbconvert_exporter": "python",
   "pygments_lexer": "ipython3",
   "version": "3.6.3"
  }
 },
 "nbformat": 4,
 "nbformat_minor": 2
}
